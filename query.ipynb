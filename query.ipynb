{
 "cells": [
  {
   "cell_type": "code",
   "execution_count": 25,
   "metadata": {},
   "outputs": [],
   "source": [
    "import numpy as np\n",
    "import pandas as pd\n",
    "import xerox"
   ]
  },
  {
   "cell_type": "code",
   "execution_count": 26,
   "metadata": {},
   "outputs": [],
   "source": [
    "char = [\n",
    "    \"Vishnal\",\n",
    "    \"Clorica\",\n",
    "    \"Volkanon\",\n",
    "    \"Forte\",\n",
    "    \"Kiel\",\n",
    "    \"Bado\",\n",
    "    \"Margaret\",\n",
    "    \"Dylas\",\n",
    "    \"Arthur\",\n",
    "    \"Porcoline\",\n",
    "    \"Xiao Pai\",\n",
    "    \"Lin Fa\",\n",
    "    \"Amber\",\n",
    "    \"Illuminata\",\n",
    "    \"Doug\",\n",
    "    \"Blossom\",\n",
    "    \"Dolce\",\n",
    "    \"Jones\",\n",
    "    \"Nancy\",\n",
    "    \"Leon\",\n",
    "    \"Ventuswill\",\n",
    "    \"Son\",\n",
    "    \"Daughter\",\n",
    "    \"Barrett\",\n",
    "    \"Raven\",\n",
    "]\n"
   ]
  },
  {
   "cell_type": "code",
   "execution_count": 112,
   "metadata": {},
   "outputs": [],
   "source": [
    "temp_df = pd.read_excel('./newdata.xlsx', sheet_name=\"gift\")"
   ]
  },
  {
   "cell_type": "code",
   "execution_count": 149,
   "metadata": {},
   "outputs": [],
   "source": [
    "query_item  = \"Toyherb\""
   ]
  },
  {
   "cell_type": "code",
   "execution_count": 150,
   "metadata": {},
   "outputs": [
    {
     "data": {
      "text/html": [
       "<div>\n",
       "<style scoped>\n",
       "    .dataframe tbody tr th:only-of-type {\n",
       "        vertical-align: middle;\n",
       "    }\n",
       "\n",
       "    .dataframe tbody tr th {\n",
       "        vertical-align: top;\n",
       "    }\n",
       "\n",
       "    .dataframe thead th {\n",
       "        text-align: right;\n",
       "    }\n",
       "</style>\n",
       "<table border=\"1\" class=\"dataframe\">\n",
       "  <thead>\n",
       "    <tr style=\"text-align: right;\">\n",
       "      <th></th>\n",
       "      <th>name</th>\n",
       "      <th>taste</th>\n",
       "      <th>item</th>\n",
       "      <th>fp</th>\n",
       "    </tr>\n",
       "  </thead>\n",
       "  <tbody>\n",
       "    <tr>\n",
       "      <th>0</th>\n",
       "      <td>Vishnal</td>\n",
       "      <td>Dislikes</td>\n",
       "      <td>Turnip Heaven</td>\n",
       "      <td>-10</td>\n",
       "    </tr>\n",
       "    <tr>\n",
       "      <th>1</th>\n",
       "      <td>Vishnal</td>\n",
       "      <td>Dislikes</td>\n",
       "      <td>Can</td>\n",
       "      <td>0</td>\n",
       "    </tr>\n",
       "    <tr>\n",
       "      <th>2</th>\n",
       "      <td>Vishnal</td>\n",
       "      <td>Dislikes</td>\n",
       "      <td>Rare Can</td>\n",
       "      <td>0</td>\n",
       "    </tr>\n",
       "    <tr>\n",
       "      <th>3</th>\n",
       "      <td>Vishnal</td>\n",
       "      <td>Dislikes</td>\n",
       "      <td>Boot</td>\n",
       "      <td>0</td>\n",
       "    </tr>\n",
       "    <tr>\n",
       "      <th>4</th>\n",
       "      <td>Vishnal</td>\n",
       "      <td>Dislikes</td>\n",
       "      <td>Scrap Metal</td>\n",
       "      <td>0</td>\n",
       "    </tr>\n",
       "  </tbody>\n",
       "</table>\n",
       "</div>"
      ],
      "text/plain": [
       "      name     taste           item  fp\n",
       "0  Vishnal  Dislikes  Turnip Heaven -10\n",
       "1  Vishnal  Dislikes            Can   0\n",
       "2  Vishnal  Dislikes       Rare Can   0\n",
       "3  Vishnal  Dislikes           Boot   0\n",
       "4  Vishnal  Dislikes    Scrap Metal   0"
      ]
     },
     "execution_count": 150,
     "metadata": {},
     "output_type": "execute_result"
    }
   ],
   "source": [
    "df = temp_df.copy()\n",
    "df.head()"
   ]
  },
  {
   "cell_type": "code",
   "execution_count": 151,
   "metadata": {},
   "outputs": [],
   "source": [
    "df = df.loc[df['item'] == query_item]"
   ]
  },
  {
   "cell_type": "code",
   "execution_count": 152,
   "metadata": {},
   "outputs": [],
   "source": [
    "df  = df.drop_duplicates(subset='name',keep='last')"
   ]
  },
  {
   "cell_type": "code",
   "execution_count": 153,
   "metadata": {},
   "outputs": [],
   "source": [
    "dislike2 = df[(df['taste'] == 'Dislikes') & (df['fp'] == -10)]"
   ]
  },
  {
   "cell_type": "code",
   "execution_count": 154,
   "metadata": {},
   "outputs": [],
   "source": [
    "dislike = df[(df['taste'] == 'Dislikes') & (df['fp'] == -5)]"
   ]
  },
  {
   "cell_type": "code",
   "execution_count": 155,
   "metadata": {},
   "outputs": [],
   "source": [
    "like2 = df[(df['taste'] == 'Likes') & (df['fp'] == 6)]"
   ]
  },
  {
   "cell_type": "code",
   "execution_count": 156,
   "metadata": {},
   "outputs": [],
   "source": [
    "like = df[(df['taste'] == 'Likes') & (df['fp'] == 9)]"
   ]
  },
  {
   "cell_type": "code",
   "execution_count": 157,
   "metadata": {},
   "outputs": [],
   "source": [
    "love2 = df[(df['taste'] == 'Loves') & (df['fp'] == 9)]"
   ]
  },
  {
   "cell_type": "code",
   "execution_count": 158,
   "metadata": {},
   "outputs": [],
   "source": [
    "love = df[(df['taste'] == 'Loves') & (df['fp'] == 15)]"
   ]
  },
  {
   "cell_type": "code",
   "execution_count": 159,
   "metadata": {},
   "outputs": [],
   "source": [
    "neutral = char.copy()"
   ]
  },
  {
   "cell_type": "code",
   "execution_count": 160,
   "metadata": {},
   "outputs": [],
   "source": [
    "body = \"\""
   ]
  },
  {
   "cell_type": "code",
   "execution_count": 161,
   "metadata": {},
   "outputs": [],
   "source": [
    "gift_list = [\n",
    "    \"love\", \"love2\", \"like\", \"like2\", \"dislike\", \"dislike2\"\n",
    "]"
   ]
  },
  {
   "cell_type": "code",
   "execution_count": 162,
   "metadata": {},
   "outputs": [],
   "source": [
    "for el in gift_list:\n",
    "    df_list = globals()[el]\n",
    "    if len(df_list) > 0 :\n",
    "        body += f\"\\n |{el}=\"\n",
    "        body += df_list['name'].str.cat(sep=\",\")\n",
    "        df_list.apply(lambda x:  neutral.remove(x['name']) if x['name'] in neutral else None , axis=1)"
   ]
  },
  {
   "cell_type": "code",
   "execution_count": 163,
   "metadata": {},
   "outputs": [],
   "source": [
    "if len(neutral) > 0 :\n",
    "    body += \"\\n |neutral=\"\n",
    "    body += \",\".join(neutral)"
   ]
  },
  {
   "cell_type": "code",
   "execution_count": 164,
   "metadata": {},
   "outputs": [],
   "source": [
    "gift_string = '{{{{RF4Gift{}\\n}}}}'.format(body)\n",
    "gift_string = gift_string.replace(\"Son\",\"Noel\")\n",
    "gift_string = gift_string.replace(\"Daughter\",\"Luna\")"
   ]
  },
  {
   "cell_type": "code",
   "execution_count": 165,
   "metadata": {},
   "outputs": [
    {
     "data": {
      "text/plain": [
       "'{{RF4Gift\\n |like=Amber,Raven\\n |neutral=Vishnal,Clorica,Volkanon,Forte,Kiel,Bado,Margaret,Dylas,Arthur,Porcoline,Xiao Pai,Lin Fa,Illuminata,Doug,Blossom,Dolce,Jones,Nancy,Leon,Ventuswill,Noel,Luna,Barrett\\n}}'"
      ]
     },
     "execution_count": 165,
     "metadata": {},
     "output_type": "execute_result"
    }
   ],
   "source": [
    "gift_string"
   ]
  },
  {
   "cell_type": "code",
   "execution_count": 166,
   "metadata": {},
   "outputs": [],
   "source": [
    "xerox.copy(gift_string)"
   ]
  }
 ],
 "metadata": {
  "kernelspec": {
   "display_name": "Python 3.10.4 ('venv': venv)",
   "language": "python",
   "name": "python3"
  },
  "language_info": {
   "codemirror_mode": {
    "name": "ipython",
    "version": 3
   },
   "file_extension": ".py",
   "mimetype": "text/x-python",
   "name": "python",
   "nbconvert_exporter": "python",
   "pygments_lexer": "ipython3",
   "version": "3.10.4"
  },
  "orig_nbformat": 4,
  "vscode": {
   "interpreter": {
    "hash": "e839e8250dd87391287d179258a60dcfe845a77f8b941919e596e94e6b94b286"
   }
  }
 },
 "nbformat": 4,
 "nbformat_minor": 2
}
