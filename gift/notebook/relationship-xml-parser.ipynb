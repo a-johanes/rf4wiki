{
 "cells": [
  {
   "cell_type": "code",
   "execution_count": 66,
   "metadata": {},
   "outputs": [],
   "source": [
    "import xml.dom.minidom as MD"
   ]
  },
  {
   "cell_type": "code",
   "execution_count": 67,
   "metadata": {},
   "outputs": [],
   "source": [
    "bef_xml = \"relationship-bef.xml\"\n",
    "aft_xml = \"relationship-aft.xml\""
   ]
  },
  {
   "cell_type": "code",
   "execution_count": 68,
   "metadata": {},
   "outputs": [],
   "source": [
    "def parseState(doc):\n",
    "    elements = doc.getElementsByTagName('Description')\n",
    "    characters = [ el.firstChild.nodeValue.strip('\"') for el in elements]  \n",
    "\n",
    "    elements = doc.getElementsByTagName('LastState')\n",
    "    states = [ int(el.attributes.getNamedItem('Value').value) for el in elements]\n",
    "\n",
    "    return [(char, state) for char, state in zip(characters, states)]"
   ]
  },
  {
   "cell_type": "code",
   "execution_count": 75,
   "metadata": {},
   "outputs": [],
   "source": [
    "bef = parseState(MD.parse(bef_xml))\n",
    "aft = parseState(MD.parse(aft_xml))"
   ]
  },
  {
   "cell_type": "code",
   "execution_count": 76,
   "metadata": {},
   "outputs": [
    {
     "name": "stdout",
     "output_type": "stream",
     "text": [
      "Vishnal        :  20\n",
      "Clorica        :   0\n",
      "Volkanon       :   0\n",
      "Forte          :   0\n",
      "Kiel           :   0\n",
      "Bado           :   0\n",
      "Margaret       :   0\n",
      "Dylas          :   0\n",
      "Arthur         :   0\n",
      "Porcoline      :   0\n",
      "Xiao           :   0\n",
      "Lin            :   0\n",
      "Amber          :   0\n",
      "Illuminata     :   0\n",
      "Doug           :   0\n",
      "Blossom        :   0\n",
      "Dolce          :   0\n",
      "Jones          :   0\n",
      "Nancy          :   0\n",
      "Leon           :   0\n",
      "Ventuswill     :   0\n",
      "Noel           :   0\n",
      "Luna           :   0\n",
      "Barret         :   0\n",
      "Raven          :   0\n"
     ]
    }
   ],
   "source": [
    "for b, a in zip(bef,aft):\n",
    "    char = b[0]\n",
    "    char = char.split()\n",
    "    char = char[0].ljust(15)\n",
    "\n",
    "    print(f'{char}: {str(a[1]-b[1]).rjust(3)}')"
   ]
  }
 ],
 "metadata": {
  "kernelspec": {
   "display_name": "Python 3.10.6 ('venv': venv)",
   "language": "python",
   "name": "python3"
  },
  "language_info": {
   "codemirror_mode": {
    "name": "ipython",
    "version": 3
   },
   "file_extension": ".py",
   "mimetype": "text/x-python",
   "name": "python",
   "nbconvert_exporter": "python",
   "pygments_lexer": "ipython3",
   "version": "3.10.6"
  },
  "orig_nbformat": 4,
  "vscode": {
   "interpreter": {
    "hash": "e503a030a4b4e0845160d592566aeb7768232038f76e35ad2496e8450423cacc"
   }
  }
 },
 "nbformat": 4,
 "nbformat_minor": 2
}
