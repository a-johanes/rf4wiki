{
 "cells": [
  {
   "cell_type": "code",
   "execution_count": 1,
   "metadata": {},
   "outputs": [],
   "source": [
    "import numpy as np\n",
    "import pandas as pd\n",
    "import xerox"
   ]
  },
  {
   "cell_type": "code",
   "execution_count": 2,
   "metadata": {},
   "outputs": [],
   "source": [
    "char = [\n",
    "    \"Vishnal\",\n",
    "    \"Clorica\",\n",
    "    \"Volkanon\",\n",
    "    \"Forte\",\n",
    "    \"Kiel\",\n",
    "    \"Bado\",\n",
    "    \"Margaret\",\n",
    "    \"Dylas\",\n",
    "    \"Arthur\",\n",
    "    \"Porcoline\",\n",
    "    \"Xiao Pai\",\n",
    "    \"Lin Fa\",\n",
    "    \"Amber\",\n",
    "    \"Illuminata\",\n",
    "    \"Doug\",\n",
    "    \"Blossom\",\n",
    "    \"Dolce\",\n",
    "    \"Jones\",\n",
    "    \"Nancy\",\n",
    "    \"Leon\",\n",
    "    \"Ventuswill\",\n",
    "    \"Son\",\n",
    "    \"Daughter\",\n",
    "    \"Barrett\",\n",
    "    \"Raven\",\n",
    "]\n"
   ]
  },
  {
   "cell_type": "code",
   "execution_count": 3,
   "metadata": {},
   "outputs": [],
   "source": [
    "temp_df = pd.read_excel('./newdata.xlsx', sheet_name=\"gift\")"
   ]
  },
  {
   "cell_type": "markdown",
   "metadata": {},
   "source": [
    "# Query"
   ]
  },
  {
   "cell_type": "code",
   "execution_count": 106,
   "metadata": {},
   "outputs": [],
   "source": [
    "query_item  = \"tyrant turnip\""
   ]
  },
  {
   "cell_type": "code",
   "execution_count": 107,
   "metadata": {},
   "outputs": [
    {
     "data": {
      "text/html": [
       "<div>\n",
       "<style scoped>\n",
       "    .dataframe tbody tr th:only-of-type {\n",
       "        vertical-align: middle;\n",
       "    }\n",
       "\n",
       "    .dataframe tbody tr th {\n",
       "        vertical-align: top;\n",
       "    }\n",
       "\n",
       "    .dataframe thead th {\n",
       "        text-align: right;\n",
       "    }\n",
       "</style>\n",
       "<table border=\"1\" class=\"dataframe\">\n",
       "  <thead>\n",
       "    <tr style=\"text-align: right;\">\n",
       "      <th></th>\n",
       "      <th>name</th>\n",
       "      <th>taste</th>\n",
       "      <th>item</th>\n",
       "      <th>fp</th>\n",
       "    </tr>\n",
       "  </thead>\n",
       "  <tbody>\n",
       "    <tr>\n",
       "      <th>0</th>\n",
       "      <td>Vishnal</td>\n",
       "      <td>Dislikes</td>\n",
       "      <td>Turnip Heaven</td>\n",
       "      <td>-10</td>\n",
       "    </tr>\n",
       "    <tr>\n",
       "      <th>1</th>\n",
       "      <td>Vishnal</td>\n",
       "      <td>Dislikes</td>\n",
       "      <td>Can</td>\n",
       "      <td>0</td>\n",
       "    </tr>\n",
       "    <tr>\n",
       "      <th>2</th>\n",
       "      <td>Vishnal</td>\n",
       "      <td>Dislikes</td>\n",
       "      <td>Rare Can</td>\n",
       "      <td>0</td>\n",
       "    </tr>\n",
       "    <tr>\n",
       "      <th>3</th>\n",
       "      <td>Vishnal</td>\n",
       "      <td>Dislikes</td>\n",
       "      <td>Boot</td>\n",
       "      <td>0</td>\n",
       "    </tr>\n",
       "    <tr>\n",
       "      <th>4</th>\n",
       "      <td>Vishnal</td>\n",
       "      <td>Dislikes</td>\n",
       "      <td>Scrap Metal</td>\n",
       "      <td>0</td>\n",
       "    </tr>\n",
       "  </tbody>\n",
       "</table>\n",
       "</div>"
      ],
      "text/plain": [
       "      name     taste           item  fp\n",
       "0  Vishnal  Dislikes  Turnip Heaven -10\n",
       "1  Vishnal  Dislikes            Can   0\n",
       "2  Vishnal  Dislikes       Rare Can   0\n",
       "3  Vishnal  Dislikes           Boot   0\n",
       "4  Vishnal  Dislikes    Scrap Metal   0"
      ]
     },
     "execution_count": 107,
     "metadata": {},
     "output_type": "execute_result"
    }
   ],
   "source": [
    "df = temp_df.copy()\n",
    "df.head()"
   ]
  },
  {
   "cell_type": "code",
   "execution_count": 108,
   "metadata": {},
   "outputs": [],
   "source": [
    "df['item'] = df['item'].str.lower()\n",
    "query_item = query_item.lower()"
   ]
  },
  {
   "cell_type": "code",
   "execution_count": 109,
   "metadata": {},
   "outputs": [],
   "source": [
    "df = df.loc[df['item'] == query_item]"
   ]
  },
  {
   "cell_type": "code",
   "execution_count": 110,
   "metadata": {},
   "outputs": [],
   "source": [
    "df  = df.drop_duplicates(subset='name',keep='last')"
   ]
  },
  {
   "cell_type": "code",
   "execution_count": 111,
   "metadata": {},
   "outputs": [],
   "source": [
    "dislike2 = df[(df['taste'] == 'Dislikes') & (df['fp'] == -10)]"
   ]
  },
  {
   "cell_type": "code",
   "execution_count": 112,
   "metadata": {},
   "outputs": [],
   "source": [
    "dislike = df[(df['taste'] == 'Dislikes') & (df['fp'] == -5)]"
   ]
  },
  {
   "cell_type": "code",
   "execution_count": 113,
   "metadata": {},
   "outputs": [],
   "source": [
    "like2 = df[(df['taste'] == 'Likes') & (df['fp'] == 6)]"
   ]
  },
  {
   "cell_type": "code",
   "execution_count": 114,
   "metadata": {},
   "outputs": [],
   "source": [
    "like = df[(df['taste'] == 'Likes') & (df['fp'] == 9)]"
   ]
  },
  {
   "cell_type": "code",
   "execution_count": 115,
   "metadata": {},
   "outputs": [],
   "source": [
    "love2 = df[(df['taste'] == 'Loves') & (df['fp'] == 9)]"
   ]
  },
  {
   "cell_type": "code",
   "execution_count": 116,
   "metadata": {},
   "outputs": [],
   "source": [
    "love = df[(df['taste'] == 'Loves') & (df['fp'] == 15)]"
   ]
  },
  {
   "cell_type": "code",
   "execution_count": 117,
   "metadata": {},
   "outputs": [],
   "source": [
    "neutral = char.copy()"
   ]
  },
  {
   "cell_type": "code",
   "execution_count": 118,
   "metadata": {},
   "outputs": [],
   "source": [
    "body = \"\""
   ]
  },
  {
   "cell_type": "code",
   "execution_count": 119,
   "metadata": {},
   "outputs": [],
   "source": [
    "gift_list = [\n",
    "    \"love\", \"love2\", \"like\", \"like2\", \"dislike\", \"dislike2\"\n",
    "]"
   ]
  },
  {
   "cell_type": "code",
   "execution_count": 120,
   "metadata": {},
   "outputs": [],
   "source": [
    "for el in gift_list:\n",
    "    df_list = globals()[el]\n",
    "    if len(df_list) > 0 :\n",
    "        body += f\"\\n |{el}=\"\n",
    "        body += df_list['name'].str.cat(sep=\",\")\n",
    "        df_list.apply(lambda x:  neutral.remove(x['name']) if x['name'] in neutral else None , axis=1)"
   ]
  },
  {
   "cell_type": "code",
   "execution_count": 121,
   "metadata": {},
   "outputs": [],
   "source": [
    "if len(neutral) > 0 :\n",
    "    body += \"\\n |neutral=\"\n",
    "    body += \",\".join(neutral)"
   ]
  },
  {
   "cell_type": "code",
   "execution_count": 122,
   "metadata": {},
   "outputs": [],
   "source": [
    "gift_string = '{{{{RF4Gift{}\\n}}}}'.format(body)\n",
    "gift_string = gift_string.replace(\"Son\",\"Noel\")\n",
    "gift_string = gift_string.replace(\"Daughter\",\"Luna\")"
   ]
  },
  {
   "cell_type": "code",
   "execution_count": 123,
   "metadata": {},
   "outputs": [
    {
     "data": {
      "text/plain": [
       "'{{RF4Gift\\n |love=Porcoline\\n |like=Arthur,Blossom,Ventuswill\\n |like2=Margaret\\n |dislike=Vishnal,Dolce\\n |neutral=Clorica,Volkanon,Forte,Kiel,Bado,Dylas,Xiao Pai,Lin Fa,Amber,Illuminata,Doug,Jones,Nancy,Leon,Noel,Luna,Barrett,Raven\\n}}'"
      ]
     },
     "execution_count": 123,
     "metadata": {},
     "output_type": "execute_result"
    }
   ],
   "source": [
    "gift_string"
   ]
  },
  {
   "cell_type": "code",
   "execution_count": 124,
   "metadata": {},
   "outputs": [],
   "source": [
    "xerox.copy(gift_string)"
   ]
  }
 ],
 "metadata": {
  "kernelspec": {
   "display_name": "Python 3.10.6 ('venv': venv)",
   "language": "python",
   "name": "python3"
  },
  "language_info": {
   "codemirror_mode": {
    "name": "ipython",
    "version": 3
   },
   "file_extension": ".py",
   "mimetype": "text/x-python",
   "name": "python",
   "nbconvert_exporter": "python",
   "pygments_lexer": "ipython3",
   "version": "3.10.6"
  },
  "orig_nbformat": 4,
  "vscode": {
   "interpreter": {
    "hash": "e503a030a4b4e0845160d592566aeb7768232038f76e35ad2496e8450423cacc"
   }
  }
 },
 "nbformat": 4,
 "nbformat_minor": 2
}
