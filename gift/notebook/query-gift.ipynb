{
 "cells": [
  {
   "attachments": {},
   "cell_type": "markdown",
   "metadata": {},
   "source": [
    "# init"
   ]
  },
  {
   "cell_type": "code",
   "execution_count": null,
   "metadata": {},
   "outputs": [],
   "source": [
    "import numpy as np\n",
    "import pandas as pd\n",
    "import xerox"
   ]
  },
  {
   "cell_type": "code",
   "execution_count": null,
   "metadata": {},
   "outputs": [],
   "source": [
    "char = [\n",
    "    \"Vishnal\",\n",
    "    \"Clorica\",\n",
    "    \"Volkanon\",\n",
    "    \"Forte\",\n",
    "    \"Kiel\",\n",
    "    \"Bado\",\n",
    "    \"Margaret\",\n",
    "    \"Dylas\",\n",
    "    \"Arthur\",\n",
    "    \"Porcoline\",\n",
    "    \"Xiao Pai\",\n",
    "    \"Lin Fa\",\n",
    "    \"Amber\",\n",
    "    \"Illuminata\",\n",
    "    \"Doug\",\n",
    "    \"Blossom\",\n",
    "    \"Dolce\",\n",
    "    \"Jones\",\n",
    "    \"Nancy\",\n",
    "    \"Leon\",\n",
    "    \"Ventuswill\",\n",
    "    \"Son\",\n",
    "    \"Daughter\",\n",
    "    \"Barrett\",\n",
    "    \"Raven\",\n",
    "]\n"
   ]
  },
  {
   "cell_type": "code",
   "execution_count": null,
   "metadata": {},
   "outputs": [],
   "source": [
    "all_monster_code=\"#8007\"\n",
    "monster_item_list=[\n",
    "    'Silver',\n",
    "    'Gold',\n",
    "    'Green Core',\n",
    "    'Red Core',\n",
    "    'Yellow Core',\n",
    "    'Blue Core',\n",
    "    'Crystal Skull',\n",
    "    'Magic Crystal',\n",
    "    'Dark Crystal',\n",
    "    'Fire Crystal',\n",
    "    'Earth Crystal',\n",
    "    'Love Crystal',\n",
    "    'Wind Crystal',\n",
    "    'Water Crystal',\n",
    "    'Light Crystal',\n",
    "    'Small Crystal',\n",
    "    'Big Crystal',\n",
    "    'Rune Crystal',\n",
    "    'Electro Crystal',\n",
    "    \"Thin Stick\",\n",
    "    \"Insect Horn\",\n",
    "    \"Plant Stem\",\n",
    "    \"Bull's Horn\",\n",
    "    \"Moving Branch\",\n",
    "    \"Rigid Horn\",\n",
    "    \"Thick Stick\",\n",
    "    \"Devil Horn\",\n",
    "    \"Glue\",\n",
    "    \"Devil Blood\",\n",
    "    \"Paralysis Potion\",\n",
    "    \"Poison King\",\n",
    "    \"Bird's Feather\",\n",
    "    \"Yellow Feather\",\n",
    "    \"Black Bird's Feather\",\n",
    "    \"Thunderbird Feather\",\n",
    "    \"Water Dragon Fin\",\n",
    "    \"Turtle Shell\",\n",
    "    \"Fish Fossil\",\n",
    "    \"Skull\",\n",
    "    \"Dragon Bones\",\n",
    "    \"Blk. Tortoise Shell\",\n",
    "    \"Ammonite\",\n",
    "    \"Tiny Golem Stone\",\n",
    "    \"Golem Stone\",\n",
    "    \"Golem Tablet\",\n",
    "    \"Golem Spirit Stone\",\n",
    "    \"Tablet of Truth\",\n",
    "    \"Old Bandage\",\n",
    "    \"Ambrosia's Thorns\",\n",
    "    \"Spider's Thread\",\n",
    "    \"Puppetry Strings\",\n",
    "    \"Vine\",\n",
    "    \"Scorpion Tail\",\n",
    "    \"Strong Vine\",\n",
    "    \"Pretty Thread\",\n",
    "    \"Chimera Tail\",\n",
    "    \"Arrowhead\",\n",
    "    \"Blade Shard\",\n",
    "    \"Broken Hilt\",\n",
    "    \"Broken Box\",\n",
    "    \"Glistening Blade\",\n",
    "    \"Great Hammer Shard\",\n",
    "    \"Hammer Piece\",\n",
    "    \"Shoulder Piece\",\n",
    "    \"Pirate's Armor\",\n",
    "    \"Rusty Screw\",\n",
    "    \"Shiny Screw\",\n",
    "    \"Left Rock Shard\",\n",
    "    \"Right Rock Shard\",\n",
    "    \"MTGU Plate\",\n",
    "    \"Broken Ice Wall\",\n",
    "    \"Fur (S)\",\n",
    "    \"Fur (M)\",\n",
    "    \"Fur\",\n",
    "    \"Wooly Furball\",\n",
    "    \"Yellow Down\",\n",
    "    \"Quality Fur\",\n",
    "    \"Quality Puffy Fur\",\n",
    "    \"Penguin Down\",\n",
    "    \"Lightning Mane\",\n",
    "    \"Red Lion Fur\",\n",
    "    \"Chest Hair\",\n",
    "    \"Spore\",\n",
    "    \"Holy Spore\",\n",
    "    \"Fairy Dust\",\n",
    "    \"Fairy Elixir\",\n",
    "    \"Gunpowder\",\n",
    "    \"Root\",\n",
    "    \"Magic Powder\",\n",
    "    \"Mysterious Powder\",\n",
    "    \"Melody Bottle\",\n",
    "    \"Magic\",\n",
    "    \"Earth Dragon Ash\",\n",
    "    \"Fire Dragon Ash\",\n",
    "    \"Water Dragon Ash\",\n",
    "    \"Turnip's Miracle\",\n",
    "    \"Cheap Cloth\",\n",
    "    \"Quality Cloth\",\n",
    "    \"Quality Worn Cloth\",\n",
    "    \"Silk Cloth\",\n",
    "    \"Ghost Hood\",\n",
    "    \"Giant's Gloves\",\n",
    "    \"Blue Giant's Glove\",\n",
    "    \"Insect Carapace\",\n",
    "    \"Pretty Carapace\",\n",
    "    \"Ancient Ore Cloth\",\n",
    "    \"Insect Jaw\",\n",
    "    \"Panther Claw\",\n",
    "    \"Magic Claw\",\n",
    "    \"Wolf Fang\",\n",
    "    \"Gold Wolf Fang\",\n",
    "    \"Palm Claw\",\n",
    "    \"Malm Claw\",\n",
    "    \"Giant's Nail\",\n",
    "    \"Big Giant's Nail\",\n",
    "    \"Chimera's Claw\",\n",
    "    \"Ivory Tusk\",\n",
    "    \"Scorpion Pincer\",\n",
    "    \"Dangerous Scissors\",\n",
    "    \"Cheap Propeller\",\n",
    "    \"Quality Propeller\",\n",
    "    \"Dragon Fang\",\n",
    "    \"Queen's Jaw\",\n",
    "    \"Wet Scale\",\n",
    "    \"Grimoire Scale\",\n",
    "    \"Dragon Scale\",\n",
    "    \"Crimson Scale\",\n",
    "    \"Blue Scale\",\n",
    "    \"Glitter Scale\",\n",
    "    \"Love Scale\",\n",
    "    \"Black Scale\",\n",
    "    \"Firewyrm Scale\",\n",
    "    \"Earthwyrm Scale\",\n",
    "    \"Double Steel\",\n",
    "    \"10X Steel\",\n",
    "    \"Rune Sphere Shard\",\n",
    "    \"Raccoon Leaf\",\n",
    "    \"Icy Nose\",\n",
    "    \"Big Bird's Comb\",\n",
    "    \"Rafflesia Petal\",\n",
    "    \"Cursed Doll\",\n",
    "    \"Warrior's Proof\",\n",
    "    \"Proof of Rank\",\n",
    "    \"Throne of the Empire\",\n",
    "]\n",
    "\n",
    "monster_item_list = [x.lower() for x in monster_item_list]"
   ]
  },
  {
   "cell_type": "code",
   "execution_count": null,
   "metadata": {},
   "outputs": [],
   "source": [
    "temp_df = pd.read_excel('../xlsx/newdata.xlsx', sheet_name=\"gift\")"
   ]
  },
  {
   "cell_type": "markdown",
   "metadata": {},
   "source": [
    "# Query"
   ]
  },
  {
   "cell_type": "code",
   "execution_count": null,
   "metadata": {},
   "outputs": [],
   "source": [
    "query_item  = \"giant's gloves\""
   ]
  },
  {
   "cell_type": "code",
   "execution_count": null,
   "metadata": {},
   "outputs": [],
   "source": [
    "df = temp_df.copy()\n",
    "df.head()"
   ]
  },
  {
   "cell_type": "code",
   "execution_count": null,
   "metadata": {},
   "outputs": [],
   "source": [
    "df['item'] = df['item'].str.lower()\n",
    "query_item = query_item.lower()"
   ]
  },
  {
   "cell_type": "code",
   "execution_count": null,
   "metadata": {},
   "outputs": [],
   "source": [
    "df = df.loc[df['item'] == query_item]"
   ]
  },
  {
   "cell_type": "code",
   "execution_count": null,
   "metadata": {},
   "outputs": [],
   "source": [
    "df  = df.drop_duplicates(subset='name',keep='last')"
   ]
  },
  {
   "cell_type": "code",
   "execution_count": null,
   "metadata": {},
   "outputs": [],
   "source": [
    "dislike2 = df[(df['taste'] == 'Dislikes') & (df['fp'] == -10)]"
   ]
  },
  {
   "cell_type": "code",
   "execution_count": null,
   "metadata": {},
   "outputs": [],
   "source": [
    "dislike = df[(df['taste'] == 'Dislikes') & (df['fp'] == -5)]\n",
    "if query_item in monster_item_list and \"Ventuswill\" not in dislike['name'].values:\n",
    "    dislike = pd.concat([dislike, pd.DataFrame(['Ventuswill'],columns=['name'])])"
   ]
  },
  {
   "cell_type": "code",
   "execution_count": null,
   "metadata": {},
   "outputs": [],
   "source": [
    "like2 = df[(df['taste'] == 'Likes') & (df['fp'] == 6)]"
   ]
  },
  {
   "cell_type": "code",
   "execution_count": null,
   "metadata": {},
   "outputs": [],
   "source": [
    "like = df[(df['taste'] == 'Likes') & (df['fp'] == 9)]"
   ]
  },
  {
   "cell_type": "code",
   "execution_count": null,
   "metadata": {},
   "outputs": [],
   "source": [
    "like3 = df[(df['taste'] == 'Likes') & (df['fp'] == 15)]"
   ]
  },
  {
   "cell_type": "code",
   "execution_count": null,
   "metadata": {},
   "outputs": [],
   "source": [
    "love2 = df[(df['taste'] == 'Loves') & (df['fp'] == 9)]"
   ]
  },
  {
   "cell_type": "code",
   "execution_count": null,
   "metadata": {},
   "outputs": [],
   "source": [
    "love = df[(df['taste'] == 'Loves') & (df['fp'] == 15)]"
   ]
  },
  {
   "cell_type": "code",
   "execution_count": null,
   "metadata": {},
   "outputs": [],
   "source": [
    "neutral = char.copy()"
   ]
  },
  {
   "cell_type": "code",
   "execution_count": null,
   "metadata": {},
   "outputs": [],
   "source": [
    "body = \"\""
   ]
  },
  {
   "cell_type": "code",
   "execution_count": null,
   "metadata": {},
   "outputs": [],
   "source": [
    "gift_list = [\n",
    "    \"love\", \"love2\", \"like3\", \"like\", \"like2\", \"dislike\", \"dislike2\"\n",
    "]"
   ]
  },
  {
   "cell_type": "code",
   "execution_count": null,
   "metadata": {},
   "outputs": [],
   "source": [
    "for el in gift_list:\n",
    "    df_list = globals()[el]\n",
    "    if len(df_list) > 0 :\n",
    "        body += f\"\\n |{el}=\"\n",
    "        body += df_list['name'].str.cat(sep=\",\")\n",
    "        df_list.apply(lambda x:  neutral.remove(x['name']) if x['name'] in neutral else None , axis=1)"
   ]
  },
  {
   "cell_type": "code",
   "execution_count": null,
   "metadata": {},
   "outputs": [],
   "source": [
    "if len(neutral) > 0 :\n",
    "    body += \"\\n |neutral=\"\n",
    "    body += \",\".join(neutral)"
   ]
  },
  {
   "cell_type": "code",
   "execution_count": null,
   "metadata": {},
   "outputs": [],
   "source": [
    "gift_string = '{{{{RF4Gift{}\\n}}}}'.format(body)\n",
    "gift_string = gift_string.replace(\"Son\",\"Noel\")\n",
    "gift_string = gift_string.replace(\"Daughter\",\"Luna\")\n",
    "gift_string = \"==== Gifts ====\\n\" + gift_string"
   ]
  },
  {
   "cell_type": "code",
   "execution_count": null,
   "metadata": {},
   "outputs": [],
   "source": [
    "gift_string"
   ]
  },
  {
   "cell_type": "code",
   "execution_count": null,
   "metadata": {},
   "outputs": [],
   "source": [
    "xerox.copy(gift_string)"
   ]
  }
 ],
 "metadata": {
  "kernelspec": {
   "display_name": "Python 3.10.6 ('env': venv)",
   "language": "python",
   "name": "python3"
  },
  "language_info": {
   "codemirror_mode": {
    "name": "ipython",
    "version": 3
   },
   "file_extension": ".py",
   "mimetype": "text/x-python",
   "name": "python",
   "nbconvert_exporter": "python",
   "pygments_lexer": "ipython3",
   "version": "3.10.6"
  },
  "orig_nbformat": 4,
  "vscode": {
   "interpreter": {
    "hash": "84cbc0ea9e3947097dc05f7bbb1764a90bf78e842cae20225b94ccee455a1743"
   }
  }
 },
 "nbformat": 4,
 "nbformat_minor": 2
}
