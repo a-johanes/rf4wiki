{
 "cells": [
  {
   "cell_type": "code",
   "execution_count": 47,
   "metadata": {},
   "outputs": [],
   "source": [
    "import numpy as np\n",
    "import pandas as pd\n",
    "import xerox"
   ]
  },
  {
   "cell_type": "code",
   "execution_count": 48,
   "metadata": {},
   "outputs": [],
   "source": [
    "char = [\n",
    "    \"Vishnal\",\n",
    "    \"Clorica\",\n",
    "    \"Volkanon\",\n",
    "    \"Forte\",\n",
    "    \"Kiel\",\n",
    "    \"Bado\",\n",
    "    \"Margaret\",\n",
    "    \"Dylas\",\n",
    "    \"Arthur\",\n",
    "    \"Porcoline\",\n",
    "    \"Xiao Pai\",\n",
    "    \"Lin Fa\",\n",
    "    \"Amber\",\n",
    "    \"Illuminata\",\n",
    "    \"Doug\",\n",
    "    \"Blossom\",\n",
    "    \"Dolce\",\n",
    "    \"Jones\",\n",
    "    \"Nancy\",\n",
    "    \"Leon\",\n",
    "    \"Ventuswill\",\n",
    "    \"Son\",\n",
    "    \"Daughter\",\n",
    "    \"Barrett\",\n",
    "    \"Raven\",\n",
    "]\n"
   ]
  },
  {
   "cell_type": "code",
   "execution_count": 49,
   "metadata": {},
   "outputs": [],
   "source": [
    "temp_df = pd.read_excel('../xlsx/newdata.xlsx', sheet_name=\"gift\")"
   ]
  },
  {
   "cell_type": "markdown",
   "metadata": {},
   "source": [
    "# Query"
   ]
  },
  {
   "cell_type": "code",
   "execution_count": 70,
   "metadata": {},
   "outputs": [],
   "source": [
    "query_item  = \"dumpling\""
   ]
  },
  {
   "cell_type": "code",
   "execution_count": 71,
   "metadata": {},
   "outputs": [
    {
     "data": {
      "text/html": [
       "<div>\n",
       "<style scoped>\n",
       "    .dataframe tbody tr th:only-of-type {\n",
       "        vertical-align: middle;\n",
       "    }\n",
       "\n",
       "    .dataframe tbody tr th {\n",
       "        vertical-align: top;\n",
       "    }\n",
       "\n",
       "    .dataframe thead th {\n",
       "        text-align: right;\n",
       "    }\n",
       "</style>\n",
       "<table border=\"1\" class=\"dataframe\">\n",
       "  <thead>\n",
       "    <tr style=\"text-align: right;\">\n",
       "      <th></th>\n",
       "      <th>name</th>\n",
       "      <th>taste</th>\n",
       "      <th>item</th>\n",
       "      <th>fp</th>\n",
       "    </tr>\n",
       "  </thead>\n",
       "  <tbody>\n",
       "    <tr>\n",
       "      <th>0</th>\n",
       "      <td>Vishnal</td>\n",
       "      <td>Dislikes</td>\n",
       "      <td>Turnip Heaven</td>\n",
       "      <td>-10</td>\n",
       "    </tr>\n",
       "    <tr>\n",
       "      <th>1</th>\n",
       "      <td>Vishnal</td>\n",
       "      <td>Dislikes</td>\n",
       "      <td>Can</td>\n",
       "      <td>-5</td>\n",
       "    </tr>\n",
       "    <tr>\n",
       "      <th>2</th>\n",
       "      <td>Vishnal</td>\n",
       "      <td>Dislikes</td>\n",
       "      <td>Rare Can</td>\n",
       "      <td>-5</td>\n",
       "    </tr>\n",
       "    <tr>\n",
       "      <th>3</th>\n",
       "      <td>Vishnal</td>\n",
       "      <td>Dislikes</td>\n",
       "      <td>Boot</td>\n",
       "      <td>-5</td>\n",
       "    </tr>\n",
       "    <tr>\n",
       "      <th>4</th>\n",
       "      <td>Vishnal</td>\n",
       "      <td>Dislikes</td>\n",
       "      <td>Scrap Metal</td>\n",
       "      <td>-5</td>\n",
       "    </tr>\n",
       "  </tbody>\n",
       "</table>\n",
       "</div>"
      ],
      "text/plain": [
       "      name     taste           item   fp\n",
       "0  Vishnal  Dislikes  Turnip Heaven  -10\n",
       "1  Vishnal  Dislikes            Can   -5\n",
       "2  Vishnal  Dislikes       Rare Can   -5\n",
       "3  Vishnal  Dislikes           Boot   -5\n",
       "4  Vishnal  Dislikes    Scrap Metal   -5"
      ]
     },
     "execution_count": 71,
     "metadata": {},
     "output_type": "execute_result"
    }
   ],
   "source": [
    "df = temp_df.copy()\n",
    "df.head()"
   ]
  },
  {
   "cell_type": "code",
   "execution_count": 72,
   "metadata": {},
   "outputs": [],
   "source": [
    "df['item'] = df['item'].str.lower()\n",
    "query_item = query_item.lower()"
   ]
  },
  {
   "cell_type": "code",
   "execution_count": 73,
   "metadata": {},
   "outputs": [],
   "source": [
    "df = df.loc[df['item'] == query_item]"
   ]
  },
  {
   "cell_type": "code",
   "execution_count": 74,
   "metadata": {},
   "outputs": [],
   "source": [
    "df  = df.drop_duplicates(subset='name',keep='last')"
   ]
  },
  {
   "cell_type": "code",
   "execution_count": 75,
   "metadata": {},
   "outputs": [],
   "source": [
    "dislike2 = df[(df['taste'] == 'Dislikes') & (df['fp'] == -10)]"
   ]
  },
  {
   "cell_type": "code",
   "execution_count": 76,
   "metadata": {},
   "outputs": [],
   "source": [
    "dislike = df[(df['taste'] == 'Dislikes') & (df['fp'] == -5)]"
   ]
  },
  {
   "cell_type": "code",
   "execution_count": 77,
   "metadata": {},
   "outputs": [],
   "source": [
    "like2 = df[(df['taste'] == 'Likes') & (df['fp'] == 6)]"
   ]
  },
  {
   "cell_type": "code",
   "execution_count": 78,
   "metadata": {},
   "outputs": [],
   "source": [
    "like = df[(df['taste'] == 'Likes') & (df['fp'] == 9)]"
   ]
  },
  {
   "cell_type": "code",
   "execution_count": 79,
   "metadata": {},
   "outputs": [],
   "source": [
    "like3 = df[(df['taste'] == 'Likes') & (df['fp'] == 15)]"
   ]
  },
  {
   "cell_type": "code",
   "execution_count": 80,
   "metadata": {},
   "outputs": [],
   "source": [
    "love2 = df[(df['taste'] == 'Loves') & (df['fp'] == 9)]"
   ]
  },
  {
   "cell_type": "code",
   "execution_count": 81,
   "metadata": {},
   "outputs": [],
   "source": [
    "love = df[(df['taste'] == 'Loves') & (df['fp'] == 15)]"
   ]
  },
  {
   "cell_type": "code",
   "execution_count": 82,
   "metadata": {},
   "outputs": [],
   "source": [
    "neutral = char.copy()"
   ]
  },
  {
   "cell_type": "code",
   "execution_count": 83,
   "metadata": {},
   "outputs": [],
   "source": [
    "body = \"\""
   ]
  },
  {
   "cell_type": "code",
   "execution_count": 84,
   "metadata": {},
   "outputs": [],
   "source": [
    "gift_list = [\n",
    "    \"love\", \"love2\", \"like3\", \"like\", \"like2\", \"dislike\", \"dislike2\"\n",
    "]"
   ]
  },
  {
   "cell_type": "code",
   "execution_count": 85,
   "metadata": {},
   "outputs": [],
   "source": [
    "for el in gift_list:\n",
    "    df_list = globals()[el]\n",
    "    if len(df_list) > 0 :\n",
    "        body += f\"\\n |{el}=\"\n",
    "        body += df_list['name'].str.cat(sep=\",\")\n",
    "        df_list.apply(lambda x:  neutral.remove(x['name']) if x['name'] in neutral else None , axis=1)"
   ]
  },
  {
   "cell_type": "code",
   "execution_count": 86,
   "metadata": {},
   "outputs": [],
   "source": [
    "if len(neutral) > 0 :\n",
    "    body += \"\\n |neutral=\"\n",
    "    body += \",\".join(neutral)"
   ]
  },
  {
   "cell_type": "code",
   "execution_count": 87,
   "metadata": {},
   "outputs": [],
   "source": [
    "gift_string = '{{{{RF4Gift{}\\n}}}}'.format(body)\n",
    "gift_string = gift_string.replace(\"Son\",\"Noel\")\n",
    "gift_string = gift_string.replace(\"Daughter\",\"Luna\")"
   ]
  },
  {
   "cell_type": "code",
   "execution_count": 88,
   "metadata": {},
   "outputs": [
    {
     "data": {
      "text/plain": [
       "'{{RF4Gift\\n |neutral=Vishnal,Clorica,Volkanon,Forte,Kiel,Bado,Margaret,Dylas,Arthur,Porcoline,Xiao Pai,Lin Fa,Amber,Illuminata,Doug,Blossom,Dolce,Jones,Nancy,Leon,Ventuswill,Noel,Luna,Barrett,Raven\\n}}'"
      ]
     },
     "execution_count": 88,
     "metadata": {},
     "output_type": "execute_result"
    }
   ],
   "source": [
    "gift_string"
   ]
  },
  {
   "cell_type": "code",
   "execution_count": 89,
   "metadata": {},
   "outputs": [],
   "source": [
    "xerox.copy(gift_string)"
   ]
  }
 ],
 "metadata": {
  "kernelspec": {
   "display_name": "Python 3.10.6 ('env': venv)",
   "language": "python",
   "name": "python3"
  },
  "language_info": {
   "codemirror_mode": {
    "name": "ipython",
    "version": 3
   },
   "file_extension": ".py",
   "mimetype": "text/x-python",
   "name": "python",
   "nbconvert_exporter": "python",
   "pygments_lexer": "ipython3",
   "version": "3.10.6"
  },
  "orig_nbformat": 4,
  "vscode": {
   "interpreter": {
    "hash": "84cbc0ea9e3947097dc05f7bbb1764a90bf78e842cae20225b94ccee455a1743"
   }
  }
 },
 "nbformat": 4,
 "nbformat_minor": 2
}
